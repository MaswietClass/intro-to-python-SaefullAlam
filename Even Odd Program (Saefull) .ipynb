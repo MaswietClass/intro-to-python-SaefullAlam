{
 "cells": [
  {
   "cell_type": "code",
   "execution_count": 1,
   "metadata": {},
   "outputs": [
    {
     "name": "stdout",
     "output_type": "stream",
     "text": [
      "masukkan bilangan : 99\n",
      "99 adalah bilangan ganjil\n"
     ]
    }
   ],
   "source": [
    "n = int(input (\"masukkan bilangan : \"))\n",
    "if (n%2==0):\n",
    "    print(n, \"adalah bilangan genap\")\n",
    "else:\n",
    "    print(n, \"adalah bilangan ganjil\")\n"
   ]
  },
  {
   "cell_type": "code",
   "execution_count": 2,
   "metadata": {},
   "outputs": [
    {
     "name": "stdout",
     "output_type": "stream",
     "text": [
      "masukkan bilangan : 98\n",
      "98 adalah bilangan genap\n"
     ]
    }
   ],
   "source": [
    "n = int(input (\"masukkan bilangan : \"))\n",
    "if (n%2==0):\n",
    "    print(n, \"adalah bilangan genap\")\n",
    "else:\n",
    "    print(n, \"adalah bilangan ganjil\")\n"
   ]
  },
  {
   "cell_type": "code",
   "execution_count": null,
   "metadata": {},
   "outputs": [],
   "source": []
  }
 ],
 "metadata": {
  "kernelspec": {
   "display_name": "Python 3",
   "language": "python",
   "name": "python3"
  },
  "language_info": {
   "codemirror_mode": {
    "name": "ipython",
    "version": 3
   },
   "file_extension": ".py",
   "mimetype": "text/x-python",
   "name": "python",
   "nbconvert_exporter": "python",
   "pygments_lexer": "ipython3",
   "version": "3.7.1"
  }
 },
 "nbformat": 4,
 "nbformat_minor": 2
}
